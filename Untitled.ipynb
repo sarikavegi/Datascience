{
 "cells": [
  {
   "cell_type": "code",
   "execution_count": 1,
   "metadata": {},
   "outputs": [
    {
     "name": "stdout",
     "output_type": "stream",
     "text": [
      "s\n",
      "a\n",
      "r\n",
      "i\n",
      "k\n",
      "a\n"
     ]
    }
   ],
   "source": [
    "str = \"sarika\"\n",
    "i = 0;\n",
    "while(i<len(str)):\n",
    "    print(str[i])\n",
    "    i = i+1"
   ]
  },
  {
   "cell_type": "code",
   "execution_count": 2,
   "metadata": {},
   "outputs": [
    {
     "name": "stdout",
     "output_type": "stream",
     "text": [
      "1 2 3 4 5 6 "
     ]
    }
   ],
   "source": [
    "lst = [1, 2, 3, 4, 5, 6]\n",
    "for element in lst:\n",
    "    print(element, end=\" \")"
   ]
  },
  {
   "cell_type": "code",
   "execution_count": 12,
   "metadata": {},
   "outputs": [
    {
     "name": "stdout",
     "output_type": "stream",
     "text": [
      "sarika\n",
      "bhuvana\n",
      "likitha\n"
     ]
    }
   ],
   "source": [
    "dic = {'4g6' : 'sarika','4g4 ': 'bhuvana','4g1' : 'likitha'}\n",
    "for value in dic.values():\n",
    "    print(value)\n"
   ]
  },
  {
   "cell_type": "code",
   "execution_count": 16,
   "metadata": {},
   "outputs": [
    {
     "name": "stdout",
     "output_type": "stream",
     "text": [
      "sarika\n",
      "bhuvana\n",
      "likitha\n"
     ]
    }
   ],
   "source": [
    "dic = {'4g6' : 'sarika','4g4 ': 'bhuvana','4g1' : 'likitha'}\n",
    "for key in dic:\n",
    "    print(dic[key])"
   ]
  },
  {
   "cell_type": "code",
   "execution_count": 19,
   "metadata": {},
   "outputs": [
    {
     "name": "stdout",
     "output_type": "stream",
     "text": [
      "4g6 sarika\n",
      "4g4  bhuvana\n",
      "4g1 likitha\n"
     ]
    }
   ],
   "source": [
    "dic = {'4g6' : 'sarika','4g4 ': 'bhuvana','4g1' : 'likitha'}\n",
    "for key in dic:\n",
    "    print(key,dic[key])"
   ]
  },
  {
   "cell_type": "code",
   "execution_count": 20,
   "metadata": {},
   "outputs": [
    {
     "name": "stdout",
     "output_type": "stream",
     "text": [
      "5 6 7 8 9 10 11 12 13 14 15 16 17 18 19 20 21 22 23 24 "
     ]
    }
   ],
   "source": [
    "for i in range(5, 25):\n",
    "    print(i,end=\" \")"
   ]
  },
  {
   "cell_type": "code",
   "execution_count": 21,
   "metadata": {},
   "outputs": [
    {
     "name": "stdout",
     "output_type": "stream",
     "text": [
      "5 10 15 20 "
     ]
    }
   ],
   "source": [
    "for i in range(5, 25, 5):\n",
    "     print(i,end=\" \")"
   ]
  },
  {
   "cell_type": "code",
   "execution_count": 23,
   "metadata": {},
   "outputs": [
    {
     "name": "stdout",
     "output_type": "stream",
     "text": [
      "-5 -10 -15 -20 -25 -30 -35 -40 -45 "
     ]
    }
   ],
   "source": [
    "for i in range(-5, -50, -5):\n",
    "    print(i,end=\" \")\n",
    "               "
   ]
  },
  {
   "cell_type": "code",
   "execution_count": 28,
   "metadata": {},
   "outputs": [
    {
     "name": "stdout",
     "output_type": "stream",
     "text": [
      "element found\n"
     ]
    }
   ],
   "source": [
    "lst = [1, 2, 3, 4, 6, 8]\n",
    "key = 6\n",
    "for x in lst:\n",
    "    if x == key:\n",
    "        print(\"element found\")\n",
    "        break"
   ]
  },
  {
   "cell_type": "code",
   "execution_count": 30,
   "metadata": {},
   "outputs": [
    {
     "name": "stdout",
     "output_type": "stream",
     "text": [
      "element not found\n"
     ]
    }
   ],
   "source": [
    "lst = [1, 2, 3, 4, 6, 8]\n",
    "key = 55\n",
    "flag = 0\n",
    "for x in lst:\n",
    "    if x == key:\n",
    "        flag = 1\n",
    "        break\n",
    "if (flag == 1):\n",
    "    print(\"element found\")\n",
    "else:\n",
    "    print(\"element not found\")\n"
   ]
  },
  {
   "cell_type": "code",
   "execution_count": 31,
   "metadata": {},
   "outputs": [
    {
     "ename": "IndentationError",
     "evalue": "unexpected indent (<ipython-input-31-4d51706bb4ef>, line 3)",
     "output_type": "error",
     "traceback": [
      "\u001b[0;36m  File \u001b[0;32m\"<ipython-input-31-4d51706bb4ef>\"\u001b[0;36m, line \u001b[0;32m3\u001b[0m\n\u001b[0;31m    if (key in lst):\u001b[0m\n\u001b[0m    ^\u001b[0m\n\u001b[0;31mIndentationError\u001b[0m\u001b[0;31m:\u001b[0m unexpected indent\n"
     ]
    }
   ],
   "source": [
    "lst = [1, 2, 3, 4, 6, 8]\n",
    "key = 6\n",
    "    if (key in lst):\n",
    "        print(\"element found\")\n",
    "    else:\n",
    "        print(\"element not found\")\n",
    "        "
   ]
  },
  {
   "cell_type": "code",
   "execution_count": 38,
   "metadata": {},
   "outputs": [
    {
     "name": "stdout",
     "output_type": "stream",
     "text": [
      "[0, 1, 2, 3, 4, 5, 6, 7, 8, 9, 10, 11, 12, 13, 14, 15, 16, 17, 18, 19, 20, 21, 22, 23, 24, 25, 26, 27, 28, 29, 30, 31, 32, 33, 34, 35, 36, 37, 38, 39, 40, 41, 42, 43, 44, 45, 46, 47, 48, 49]\n"
     ]
    }
   ],
   "source": [
    "lst = list(range(50)) \n",
    "print(lst)"
   ]
  },
  {
   "cell_type": "code",
   "execution_count": 39,
   "metadata": {},
   "outputs": [
    {
     "name": "stdout",
     "output_type": "stream",
     "text": [
      "87654\n"
     ]
    }
   ],
   "source": [
    "r = '45678'\n",
    "rev = r[::-1]\n",
    "print(rev)"
   ]
  },
  {
   "cell_type": "markdown",
   "metadata": {},
   "source": [
    "# FIBONACCI SERIES#"
   ]
  },
  {
   "cell_type": "code",
   "execution_count": 43,
   "metadata": {},
   "outputs": [
    {
     "ename": "SyntaxError",
     "evalue": "invalid syntax (<ipython-input-43-e5a6fc23e51b>, line 4)",
     "output_type": "error",
     "traceback": [
      "\u001b[0;36m  File \u001b[0;32m\"<ipython-input-43-e5a6fc23e51b>\"\u001b[0;36m, line \u001b[0;32m4\u001b[0m\n\u001b[0;31m    while(n! = 0):\u001b[0m\n\u001b[0m           ^\u001b[0m\n\u001b[0;31mSyntaxError\u001b[0m\u001b[0;31m:\u001b[0m invalid syntax\n"
     ]
    }
   ],
   "source": [
    "n = int(input(\"Enter a number\"))\n",
    "a,b = 0,1\n",
    "print(a,b,end=\" \")\n",
    "while(n! = 0):\n",
    "    c = a+b\n",
    "    print((a+b), end=\" \")\n",
    "    a,b = b,a+b\n",
    "    n = n-i"
   ]
  },
  {
   "cell_type": "code",
   "execution_count": null,
   "metadata": {
    "collapsed": true
   },
   "outputs": [],
   "source": []
  }
 ],
 "metadata": {
  "kernelspec": {
   "display_name": "Python 3",
   "language": "python",
   "name": "python3"
  },
  "language_info": {
   "codemirror_mode": {
    "name": "ipython",
    "version": 3
   },
   "file_extension": ".py",
   "mimetype": "text/x-python",
   "name": "python",
   "nbconvert_exporter": "python",
   "pygments_lexer": "ipython3",
   "version": "3.6.3"
  }
 },
 "nbformat": 4,
 "nbformat_minor": 2
}
